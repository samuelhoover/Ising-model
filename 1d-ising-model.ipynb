{
 "cells": [
  {
   "cell_type": "code",
   "execution_count": 47,
   "id": "34283ffa-9366-4cb3-9472-d572c4ba3a4f",
   "metadata": {},
   "outputs": [],
   "source": [
    "import os\n",
    "import glob\n",
    "\n",
    "import matplotlib.pyplot as plt\n",
    "import numpy as np\n",
    "\n",
    "from PIL import Image"
   ]
  },
  {
   "cell_type": "code",
   "execution_count": 29,
   "id": "2052b776-299c-4cbd-bd31-21055433093f",
   "metadata": {},
   "outputs": [],
   "source": [
    "def initialize_lattice(N):\n",
    "    while True:\n",
    "        lattice = np.random.choice([-1, 1], size=N)\n",
    "        if lattice.sum() == 0:  # generate lattice with half up spins and half down spins\n",
    "            return lattice"
   ]
  },
  {
   "cell_type": "code",
   "execution_count": 9,
   "id": "cda627ce-8eb3-4895-b9f0-40bc06ab1530",
   "metadata": {},
   "outputs": [],
   "source": [
    "def bc(lattice, x):\n",
    "    if x >= len(lattice):\n",
    "        return 0\n",
    "    elif x < 0:\n",
    "        return len(lattice) - 1\n",
    "    else:\n",
    "        return x"
   ]
  },
  {
   "cell_type": "code",
   "execution_count": 61,
   "id": "3742fbeb-b609-4588-9a77-2a30471d7dee",
   "metadata": {},
   "outputs": [],
   "source": [
    "def plot_lattice(lattice, i, moves, save=False):\n",
    "    fig, ax = plt.subplots(figsize=(6, 3))\n",
    "    N = len(lattice)\n",
    "    lattice = lattice[None, :]\n",
    "    ax.imshow(lattice, cmap='bwr', origin='lower')\n",
    "    ax.set_title(f'$t = {i}$')\n",
    "    ax.tick_params(axis='both', which='both', length=0)\n",
    "    ax.xaxis.set_ticklabels([])\n",
    "    ax.yaxis.set_ticklabels([])\n",
    "    fig.tight_layout()\n",
    "    if save:\n",
    "        fig.savefig(f'figs/ising-model/1d/T-{str(T).replace(\".\", \"_\")}/t_{str(i).rjust(len(str(moves)), \"0\")}.jpg', dpi=150)\n",
    "        \n",
    "    return fig"
   ]
  },
  {
   "cell_type": "code",
   "execution_count": 114,
   "id": "f729d422-42ac-433c-a12d-75bdab07623f",
   "metadata": {},
   "outputs": [],
   "source": [
    "def simulate(lattice, moves, T, J, animate=False, ani_interval=None):\n",
    "    # maintain 1:1 spin ratio\n",
    "    if animate:\n",
    "        fig = plot_lattice(lattice, 0, moves, save=True)  # initial lattice\n",
    "        plt.close(fig=fig)\n",
    "\n",
    "    N = lattice.shape\n",
    "    for i in range(1, moves + 1):\n",
    "        _N = np.random.randint(N)\n",
    "        _state = lattice[_N]\n",
    "        _energy = -J * _state * (lattice[bc(lattice, _N+1)] + lattice[bc(lattice, _N-1)])\n",
    "        energy_new = J * _state * (lattice[bc(lattice, _N+1)] + lattice[bc(lattice, _N-1)])\n",
    "        if energy_new < _energy:\n",
    "            idx = np.random.choice(np.where(lattice == -1 * _state)[0])\n",
    "            _energy_new = J * lattice[idx] * (lattice[bc(lattice, idx+1)] + lattice[bc(lattice, idx-1)])\n",
    "            if _energy_new < energy_new:\n",
    "                lattice[_N] *= -1\n",
    "                lattice[idx] *= -1\n",
    "                \n",
    "        elif np.random.random() < np.exp(-energy_new / T):\n",
    "            idx = np.random.choice(np.where(lattice == -1 * _state)[0])\n",
    "            _energy_new = J * lattice[idx] * (lattice[bc(lattice, idx+1)] + lattice[bc(lattice, idx-1)])\n",
    "            if _energy_new < energy_new:\n",
    "                lattice[_N] *= -1\n",
    "                lattice[idx] *= -1\n",
    "\n",
    "        if animate:\n",
    "            if i % ani_interval == 0:\n",
    "                fig = plot_lattice(lattice, i, moves, save=True)\n",
    "                plt.close(fig=fig)\n",
    "\n",
    "    plot_lattice(lattice, moves, moves, save=False)\n",
    "\n",
    "    return lattice"
   ]
  },
  {
   "cell_type": "code",
   "execution_count": 115,
   "id": "c09cbe90-25be-408a-8bc2-9464f84b096f",
   "metadata": {},
   "outputs": [
    {
     "data": {
      "image/png": "[encoded data removed]",
      "text/plain": [
       "<Figure size 432x216 with 1 Axes>"
      ]
     },
     "metadata": {
      "needs_background": "light"
     },
     "output_type": "display_data"
    }
   ],
   "source": [
    "N = 50\n",
    "lattice = initialize_lattice(N)\n",
    "fig = plot_lattice(lattice, 0, 0, save=False)"
   ]
  },
  {
   "cell_type": "code",
   "execution_count": 122,
   "id": "61501045-6364-4e71-9831-69b485e314ed",
   "metadata": {},
   "outputs": [
    {
     "name": "stderr",
     "output_type": "stream",
     "text": [
      "/var/folders/q3/lfzvcqd97_q0vvhx191jh1lm0000gn/T/ipykernel_31194/577694817.py:20: RuntimeWarning: divide by zero encountered in divide\n",
      "  elif np.random.random() < np.exp(-energy_new / T):\n",
      "/var/folders/q3/lfzvcqd97_q0vvhx191jh1lm0000gn/T/ipykernel_31194/577694817.py:20: RuntimeWarning: invalid value encountered in divide\n",
      "  elif np.random.random() < np.exp(-energy_new / T):\n"
     ]
    },
    {
     "data": {
      "image/png": "[encoded data removed]",
      "text/plain": [
       "<Figure size 432x216 with 1 Axes>"
      ]
     },
     "metadata": {
      "needs_background": "light"
     },
     "output_type": "display_data"
    }
   ],
   "source": [
    "N = 50\n",
    "N_moves = 1000000\n",
    "T = 0\n",
    "J = 2\n",
    "\n",
    "lattice = simulate(lattice, N_moves, T, J, animate=False, ani_interval=100)"
   ]
  },
  {
   "cell_type": "code",
   "execution_count": 99,
   "id": "2290d94d-8d93-4d27-98a3-b72c23f9f79d",
   "metadata": {},
   "outputs": [],
   "source": [
    "# generate GIF\n",
    "path_in = 'figs/ising-model/1d/T-0_01/t_*.jpg'\n",
    "path_out = 'figs/ising-model/1d/T-0_01/simulation.gif'\n",
    "\n",
    "imgs = (Image.open(f) for f in sorted(glob.glob(path_in)))\n",
    "img = next(imgs)\n",
    "img.save(\n",
    "    fp=path_out, format='GIF', append_images=imgs,\n",
    "    save_all=True, duration=50, loop=0,\n",
    ")"
   ]
  },
  {
   "cell_type": "code",
   "execution_count": null,
   "id": "d45c8180-9ace-476c-82a8-159f343e80f7",
   "metadata": {},
   "outputs": [],
   "source": []
  }
 ],
 "metadata": {
  "kernelspec": {
   "display_name": "py39",
   "language": "python",
   "name": "py39"
  },
  "language_info": {
   "codemirror_mode": {
    "name": "ipython",
    "version": 3
   },
   "file_extension": ".py",
   "mimetype": "text/x-python",
   "name": "python",
   "nbconvert_exporter": "python",
   "pygments_lexer": "ipython3",
   "version": "3.9.13"
  }
 },
 "nbformat": 4,
 "nbformat_minor": 5
}
